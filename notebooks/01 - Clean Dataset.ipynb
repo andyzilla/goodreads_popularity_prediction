{
 "cells": [
  {
   "cell_type": "code",
   "execution_count": 1,
   "id": "f3e83f97",
   "metadata": {},
   "outputs": [],
   "source": [
    "import sys\n",
    "sys.path.append('../src/')\n",
    "\n",
    "%load_ext autoreload\n",
    "%autoreload 2\n",
    "\n",
    "from utils import load_dataset, clean_dataset\n",
    "import pandas as pd\n",
    "from datetime import date"
   ]
  },
  {
   "cell_type": "code",
   "execution_count": 2,
   "outputs": [
    {
     "name": "stderr",
     "output_type": "stream",
     "text": [
      "100%|██████████| 23/23 [00:10<00:00,  2.29it/s]\n"
     ]
    }
   ],
   "source": [
    "df = load_dataset()"
   ],
   "metadata": {
    "collapsed": false
   }
  },
  {
   "cell_type": "code",
   "execution_count": 3,
   "outputs": [],
   "source": [
    "df_clean = clean_dataset(df)"
   ],
   "metadata": {
    "collapsed": false
   }
  },
  {
   "cell_type": "code",
   "execution_count": 4,
   "outputs": [
    {
     "name": "stdout",
     "output_type": "stream",
     "text": [
      "<class 'pandas.core.frame.DataFrame'>\n",
      "Int64Index: 1143017 entries, 0 to 34758\n",
      "Data columns (total 8 columns):\n",
      " #   Column        Non-Null Count    Dtype  \n",
      "---  ------        --------------    -----  \n",
      " 0   Name          1143017 non-null  object \n",
      " 1   Authors       1143017 non-null  object \n",
      " 2   Rating        1143017 non-null  float64\n",
      " 3   PublishYear   1143017 non-null  int64  \n",
      " 4   Publisher     1143017 non-null  object \n",
      " 5   PagesNumber   1143017 non-null  int64  \n",
      " 6   Description   1143017 non-null  object \n",
      " 7   TotalReviews  1143017 non-null  int64  \n",
      "dtypes: float64(1), int64(3), object(4)\n",
      "memory usage: 78.5+ MB\n"
     ]
    }
   ],
   "source": [
    "df_clean.info()"
   ],
   "metadata": {
    "collapsed": false
   }
  },
  {
   "cell_type": "code",
   "execution_count": 5,
   "outputs": [
    {
     "data": {
      "text/plain": "                                          Name                 Authors  \\\n0                                   Barbarossa      Christopher Ailsby   \n2                         Images of Barbarossa      Christopher Ailsby   \n3  Romania After 2000: Five New Romanian Plays  Daniel Charles Gerould   \n\n   Rating  PublishYear                                    Publisher  \\\n0     3.0         2007                               New Line Books   \n2     3.5         2001                                Ian Allan Ltd   \n3     4.0         2007  Martin E. Segal Theatre Center Publications   \n\n   PagesNumber                                        Description  \\\n0          192  On 22 June 1941, Adolf Hitler launched Operati...   \n2          256  On 22 June 1941, Adolf Hitler launched Operati...   \n3          226  The first anthology of new Romanian Drama publ...   \n\n   TotalReviews  \n0             1  \n2             8  \n3             6  ",
      "text/html": "<div>\n<style scoped>\n    .dataframe tbody tr th:only-of-type {\n        vertical-align: middle;\n    }\n\n    .dataframe tbody tr th {\n        vertical-align: top;\n    }\n\n    .dataframe thead th {\n        text-align: right;\n    }\n</style>\n<table border=\"1\" class=\"dataframe\">\n  <thead>\n    <tr style=\"text-align: right;\">\n      <th></th>\n      <th>Name</th>\n      <th>Authors</th>\n      <th>Rating</th>\n      <th>PublishYear</th>\n      <th>Publisher</th>\n      <th>PagesNumber</th>\n      <th>Description</th>\n      <th>TotalReviews</th>\n    </tr>\n  </thead>\n  <tbody>\n    <tr>\n      <th>0</th>\n      <td>Barbarossa</td>\n      <td>Christopher Ailsby</td>\n      <td>3.0</td>\n      <td>2007</td>\n      <td>New Line Books</td>\n      <td>192</td>\n      <td>On 22 June 1941, Adolf Hitler launched Operati...</td>\n      <td>1</td>\n    </tr>\n    <tr>\n      <th>2</th>\n      <td>Images of Barbarossa</td>\n      <td>Christopher Ailsby</td>\n      <td>3.5</td>\n      <td>2001</td>\n      <td>Ian Allan Ltd</td>\n      <td>256</td>\n      <td>On 22 June 1941, Adolf Hitler launched Operati...</td>\n      <td>8</td>\n    </tr>\n    <tr>\n      <th>3</th>\n      <td>Romania After 2000: Five New Romanian Plays</td>\n      <td>Daniel Charles Gerould</td>\n      <td>4.0</td>\n      <td>2007</td>\n      <td>Martin E. Segal Theatre Center Publications</td>\n      <td>226</td>\n      <td>The first anthology of new Romanian Drama publ...</td>\n      <td>6</td>\n    </tr>\n  </tbody>\n</table>\n</div>"
     },
     "execution_count": 5,
     "metadata": {},
     "output_type": "execute_result"
    }
   ],
   "source": [
    "df_clean.head(3)"
   ],
   "metadata": {
    "collapsed": false
   }
  },
  {
   "cell_type": "code",
   "execution_count": 6,
   "outputs": [
    {
     "data": {
      "text/plain": "1143017"
     },
     "execution_count": 6,
     "metadata": {},
     "output_type": "execute_result"
    }
   ],
   "source": [
    "df_clean.index.size"
   ],
   "metadata": {
    "collapsed": false
   }
  },
  {
   "cell_type": "code",
   "execution_count": 7,
   "outputs": [],
   "source": [
    "df_clean.to_csv('../data/clean_dataset.csv')"
   ],
   "metadata": {
    "collapsed": false
   }
  }
 ],
 "metadata": {
  "kernelspec": {
   "display_name": "Python 3 (ipykernel)",
   "language": "python",
   "name": "python3"
  },
  "language_info": {
   "codemirror_mode": {
    "name": "ipython",
    "version": 3
   },
   "file_extension": ".py",
   "mimetype": "text/x-python",
   "name": "python",
   "nbconvert_exporter": "python",
   "pygments_lexer": "ipython3",
   "version": "3.10.4"
  }
 },
 "nbformat": 4,
 "nbformat_minor": 5
}
