{
 "cells": [
  {
   "cell_type": "code",
   "execution_count": 13,
   "id": "f3e83f97",
   "metadata": {},
   "outputs": [
    {
     "name": "stdout",
     "output_type": "stream",
     "text": [
      "The autoreload extension is already loaded. To reload it, use:\n",
      "  %reload_ext autoreload\n"
     ]
    }
   ],
   "source": [
    "import sys\n",
    "sys.path.append('../src/')\n",
    "\n",
    "%load_ext autoreload\n",
    "%autoreload 2\n",
    "\n",
    "from utils import load_dataset\n",
    "import pandas as pd\n",
    "from datetime import date"
   ]
  },
  {
   "cell_type": "code",
   "execution_count": 14,
   "outputs": [
    {
     "name": "stderr",
     "output_type": "stream",
     "text": [
      "100%|██████████| 23/23 [00:10<00:00,  2.30it/s]\n"
     ]
    }
   ],
   "source": [
    "df = load_dataset()"
   ],
   "metadata": {
    "collapsed": false
   }
  },
  {
   "cell_type": "code",
   "execution_count": 33,
   "outputs": [],
   "source": [
    "def clean_dataset(dataset):\n",
    "    \"\"\"\n",
    "    Cleans the dataset\n",
    "    TODO: enumerate all cleaning steps, check EDA for details on these changes\n",
    "    \"\"\"\n",
    "\n",
    "    dataset['TotalReviews'] = dataset['RatingDistTotal'].str.replace(\"total:\", \"\").astype(int)\n",
    "\n",
    "    dataset = dataset.dropna(subset= 'Description')\n",
    "    dataset = dataset.drop(dataset[dataset['PublishYear'] <= pd.Timestamp.min.year].index)\n",
    "    dataset = dataset.drop(dataset[dataset['PublishYear'] >= date.today().year].index)\n",
    "\n",
    "    dataset['Publisher'] = dataset['Publisher'].fillna(\"Unknown\")\n",
    "    dataset['Language'] = dataset['Language'].fillna('eng')\n",
    "\n",
    "    language_mask = dataset['Language'].str.startswith('en-')\n",
    "    dataset.loc[language_mask, 'Language'] = 'eng'\n",
    "\n",
    "    dataset = dataset[dataset.Language == 'eng']\n",
    "\n",
    "    dataset = dataset.drop(columns=['PublishMonth', 'Language', 'PublishDay', 'ISBN', 'RatingDist1', 'RatingDist2', 'RatingDist3', 'RatingDist4', 'RatingDist5', 'Count of text reviews', 'RatingDistTotal', 'CountsOfReview', 'Id'])\n",
    "\n",
    "    return dataset"
   ],
   "metadata": {
    "collapsed": false
   }
  },
  {
   "cell_type": "code",
   "execution_count": 34,
   "outputs": [],
   "source": [
    "df_clean = clean_dataset(df)"
   ],
   "metadata": {
    "collapsed": false
   }
  },
  {
   "cell_type": "code",
   "execution_count": 36,
   "outputs": [
    {
     "name": "stdout",
     "output_type": "stream",
     "text": [
      "<class 'pandas.core.frame.DataFrame'>\n",
      "Int64Index: 1143017 entries, 0 to 34758\n",
      "Data columns (total 9 columns):\n",
      " #   Column        Non-Null Count    Dtype  \n",
      "---  ------        --------------    -----  \n",
      " 0   Name          1143017 non-null  object \n",
      " 1   Authors       1143017 non-null  object \n",
      " 2   Rating        1143017 non-null  float64\n",
      " 3   PublishYear   1143017 non-null  int64  \n",
      " 4   Publisher     1143017 non-null  object \n",
      " 5   PagesNumber   1143017 non-null  int64  \n",
      " 6   Description   1143017 non-null  object \n",
      " 7   filename      1143017 non-null  object \n",
      " 8   TotalReviews  1143017 non-null  int64  \n",
      "dtypes: float64(1), int64(3), object(5)\n",
      "memory usage: 87.2+ MB\n"
     ]
    }
   ],
   "source": [
    "df_clean.info()"
   ],
   "metadata": {
    "collapsed": false
   }
  },
  {
   "cell_type": "code",
   "execution_count": 29,
   "outputs": [
    {
     "data": {
      "text/plain": "                                          Name                 Authors  \\\n0                                   Barbarossa      Christopher Ailsby   \n2                         Images of Barbarossa      Christopher Ailsby   \n3  Romania After 2000: Five New Romanian Plays  Daniel Charles Gerould   \n\n   Rating  PublishYear                                    Publisher Language  \\\n0     3.0         2007                               New Line Books      eng   \n2     3.5         2001                                Ian Allan Ltd      eng   \n3     4.0         2007  Martin E. Segal Theatre Center Publications      eng   \n\n   PagesNumber                                        Description  \\\n0          192  On 22 June 1941, Adolf Hitler launched Operati...   \n2          256  On 22 June 1941, Adolf Hitler launched Operati...   \n3          226  The first anthology of new Romanian Drama publ...   \n\n                      filename  TotalReviews  \n0  ../data/book1900k-2000k.csv             1  \n2  ../data/book1900k-2000k.csv             8  \n3  ../data/book1900k-2000k.csv             6  ",
      "text/html": "<div>\n<style scoped>\n    .dataframe tbody tr th:only-of-type {\n        vertical-align: middle;\n    }\n\n    .dataframe tbody tr th {\n        vertical-align: top;\n    }\n\n    .dataframe thead th {\n        text-align: right;\n    }\n</style>\n<table border=\"1\" class=\"dataframe\">\n  <thead>\n    <tr style=\"text-align: right;\">\n      <th></th>\n      <th>Name</th>\n      <th>Authors</th>\n      <th>Rating</th>\n      <th>PublishYear</th>\n      <th>Publisher</th>\n      <th>Language</th>\n      <th>PagesNumber</th>\n      <th>Description</th>\n      <th>filename</th>\n      <th>TotalReviews</th>\n    </tr>\n  </thead>\n  <tbody>\n    <tr>\n      <th>0</th>\n      <td>Barbarossa</td>\n      <td>Christopher Ailsby</td>\n      <td>3.0</td>\n      <td>2007</td>\n      <td>New Line Books</td>\n      <td>eng</td>\n      <td>192</td>\n      <td>On 22 June 1941, Adolf Hitler launched Operati...</td>\n      <td>../data/book1900k-2000k.csv</td>\n      <td>1</td>\n    </tr>\n    <tr>\n      <th>2</th>\n      <td>Images of Barbarossa</td>\n      <td>Christopher Ailsby</td>\n      <td>3.5</td>\n      <td>2001</td>\n      <td>Ian Allan Ltd</td>\n      <td>eng</td>\n      <td>256</td>\n      <td>On 22 June 1941, Adolf Hitler launched Operati...</td>\n      <td>../data/book1900k-2000k.csv</td>\n      <td>8</td>\n    </tr>\n    <tr>\n      <th>3</th>\n      <td>Romania After 2000: Five New Romanian Plays</td>\n      <td>Daniel Charles Gerould</td>\n      <td>4.0</td>\n      <td>2007</td>\n      <td>Martin E. Segal Theatre Center Publications</td>\n      <td>eng</td>\n      <td>226</td>\n      <td>The first anthology of new Romanian Drama publ...</td>\n      <td>../data/book1900k-2000k.csv</td>\n      <td>6</td>\n    </tr>\n  </tbody>\n</table>\n</div>"
     },
     "execution_count": 29,
     "metadata": {},
     "output_type": "execute_result"
    }
   ],
   "source": [
    "df_clean.head(3)"
   ],
   "metadata": {
    "collapsed": false
   }
  },
  {
   "cell_type": "code",
   "execution_count": 37,
   "outputs": [
    {
     "data": {
      "text/plain": "1143017"
     },
     "execution_count": 37,
     "metadata": {},
     "output_type": "execute_result"
    }
   ],
   "source": [
    "df_clean.index.size"
   ],
   "metadata": {
    "collapsed": false
   }
  },
  {
   "cell_type": "code",
   "execution_count": 38,
   "outputs": [],
   "source": [
    "df_clean.to_csv('../data/clean_dataset.csv')"
   ],
   "metadata": {
    "collapsed": false
   }
  }
 ],
 "metadata": {
  "kernelspec": {
   "display_name": "Python 3 (ipykernel)",
   "language": "python",
   "name": "python3"
  },
  "language_info": {
   "codemirror_mode": {
    "name": "ipython",
    "version": 3
   },
   "file_extension": ".py",
   "mimetype": "text/x-python",
   "name": "python",
   "nbconvert_exporter": "python",
   "pygments_lexer": "ipython3",
   "version": "3.10.4"
  }
 },
 "nbformat": 4,
 "nbformat_minor": 5
}
