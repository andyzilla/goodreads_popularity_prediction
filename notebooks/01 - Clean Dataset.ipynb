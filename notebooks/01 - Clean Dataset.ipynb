{
 "cells": [
  {
   "cell_type": "code",
   "execution_count": 1,
   "id": "f3e83f97",
   "metadata": {},
   "outputs": [],
   "source": [
    "import sys\n",
    "sys.path.append('../src/')\n",
    "\n",
    "%load_ext autoreload\n",
    "%autoreload 2\n",
    "\n",
    "from utils import load_dataset, clean_dataset"
   ]
  },
  {
   "cell_type": "code",
   "execution_count": 2,
   "outputs": [
    {
     "name": "stderr",
     "output_type": "stream",
     "text": [
      "100%|██████████| 23/23 [00:10<00:00,  2.28it/s]\n"
     ]
    }
   ],
   "source": [
    "df = load_dataset()"
   ],
   "metadata": {
    "collapsed": false
   }
  },
  {
   "cell_type": "code",
   "execution_count": 3,
   "outputs": [],
   "source": [
    "df_clean = clean_dataset(df)"
   ],
   "metadata": {
    "collapsed": false
   }
  },
  {
   "cell_type": "code",
   "execution_count": 4,
   "outputs": [
    {
     "name": "stdout",
     "output_type": "stream",
     "text": [
      "<class 'pandas.core.frame.DataFrame'>\n",
      "RangeIndex: 1065137 entries, 0 to 1065136\n",
      "Data columns (total 8 columns):\n",
      " #   Column        Non-Null Count    Dtype  \n",
      "---  ------        --------------    -----  \n",
      " 0   Name          1065137 non-null  object \n",
      " 1   Authors       1065137 non-null  object \n",
      " 2   PublishYear   1065137 non-null  int64  \n",
      " 3   Publisher     1065137 non-null  object \n",
      " 4   Rating        1065137 non-null  float64\n",
      " 5   PagesNumber   1065137 non-null  float64\n",
      " 6   TotalReviews  1065137 non-null  int64  \n",
      " 7   Description   1065137 non-null  object \n",
      "dtypes: float64(2), int64(2), object(4)\n",
      "memory usage: 65.0+ MB\n"
     ]
    }
   ],
   "source": [
    "df_clean.info()"
   ],
   "metadata": {
    "collapsed": false
   }
  },
  {
   "cell_type": "code",
   "execution_count": 5,
   "outputs": [
    {
     "data": {
      "text/plain": "                                                Name                Authors  \\\n0  !%@:: A Directory of Electronic Mail Addressin...             Rick Adams   \n1  !Arrebátalo!: La fe que se mantiene firme ante...            Judy Jacobs   \n2            !Buen viaje!, Course 1, Student Edition  McGraw-Hill Education   \n\n   PublishYear         Publisher  Rating  PagesNumber  TotalReviews  \\\n0         1993  [O'Reilly Media]     0.0        458.0             0   \n1         2006   [Casa Creación]     4.0        254.0             2   \n2         1999         [Unknown]     2.8        514.0             5   \n\n                                         Description  \n0  These days, it's a rare person who hasn't hear...  \n1  <i>¡Aprende a caminar en el poder de la fe vio...  \n2  This three-level program brings you every reso...  ",
      "text/html": "<div>\n<style scoped>\n    .dataframe tbody tr th:only-of-type {\n        vertical-align: middle;\n    }\n\n    .dataframe tbody tr th {\n        vertical-align: top;\n    }\n\n    .dataframe thead th {\n        text-align: right;\n    }\n</style>\n<table border=\"1\" class=\"dataframe\">\n  <thead>\n    <tr style=\"text-align: right;\">\n      <th></th>\n      <th>Name</th>\n      <th>Authors</th>\n      <th>PublishYear</th>\n      <th>Publisher</th>\n      <th>Rating</th>\n      <th>PagesNumber</th>\n      <th>TotalReviews</th>\n      <th>Description</th>\n    </tr>\n  </thead>\n  <tbody>\n    <tr>\n      <th>0</th>\n      <td>!%@:: A Directory of Electronic Mail Addressin...</td>\n      <td>Rick Adams</td>\n      <td>1993</td>\n      <td>[O'Reilly Media]</td>\n      <td>0.0</td>\n      <td>458.0</td>\n      <td>0</td>\n      <td>These days, it's a rare person who hasn't hear...</td>\n    </tr>\n    <tr>\n      <th>1</th>\n      <td>!Arrebátalo!: La fe que se mantiene firme ante...</td>\n      <td>Judy Jacobs</td>\n      <td>2006</td>\n      <td>[Casa Creación]</td>\n      <td>4.0</td>\n      <td>254.0</td>\n      <td>2</td>\n      <td>&lt;i&gt;¡Aprende a caminar en el poder de la fe vio...</td>\n    </tr>\n    <tr>\n      <th>2</th>\n      <td>!Buen viaje!, Course 1, Student Edition</td>\n      <td>McGraw-Hill Education</td>\n      <td>1999</td>\n      <td>[Unknown]</td>\n      <td>2.8</td>\n      <td>514.0</td>\n      <td>5</td>\n      <td>This three-level program brings you every reso...</td>\n    </tr>\n  </tbody>\n</table>\n</div>"
     },
     "execution_count": 5,
     "metadata": {},
     "output_type": "execute_result"
    }
   ],
   "source": [
    "df_clean.head(3)"
   ],
   "metadata": {
    "collapsed": false
   }
  },
  {
   "cell_type": "code",
   "execution_count": 6,
   "outputs": [
    {
     "data": {
      "text/plain": "1065137"
     },
     "execution_count": 6,
     "metadata": {},
     "output_type": "execute_result"
    }
   ],
   "source": [
    "df_clean.index.size"
   ],
   "metadata": {
    "collapsed": false
   }
  },
  {
   "cell_type": "code",
   "execution_count": 7,
   "outputs": [],
   "source": [
    "df_clean.to_csv('../data/clean_dataset.csv')"
   ],
   "metadata": {
    "collapsed": false
   }
  }
 ],
 "metadata": {
  "kernelspec": {
   "display_name": "Python 3 (ipykernel)",
   "language": "python",
   "name": "python3"
  },
  "language_info": {
   "codemirror_mode": {
    "name": "ipython",
    "version": 3
   },
   "file_extension": ".py",
   "mimetype": "text/x-python",
   "name": "python",
   "nbconvert_exporter": "python",
   "pygments_lexer": "ipython3",
   "version": "3.10.4"
  }
 },
 "nbformat": 4,
 "nbformat_minor": 5
}
