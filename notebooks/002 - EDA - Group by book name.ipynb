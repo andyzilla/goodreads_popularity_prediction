{
 "cells": [
  {
   "cell_type": "code",
   "execution_count": 11,
   "metadata": {
    "collapsed": true
   },
   "outputs": [
    {
     "name": "stdout",
     "output_type": "stream",
     "text": [
      "The autoreload extension is already loaded. To reload it, use:\n",
      "  %reload_ext autoreload\n"
     ]
    }
   ],
   "source": [
    "import sys\n",
    "\n",
    "import numpy as np\n",
    "\n",
    "sys.path.append('../src/')\n",
    "\n",
    "%load_ext autoreload\n",
    "%autoreload 2\n",
    "\n",
    "import utils\n",
    "import pandas as pd\n",
    "from datetime import date"
   ]
  },
  {
   "cell_type": "code",
   "execution_count": 12,
   "outputs": [
    {
     "name": "stderr",
     "output_type": "stream",
     "text": [
      "100%|██████████| 23/23 [00:10<00:00,  2.25it/s]\n"
     ]
    }
   ],
   "source": [
    "df = utils.load_dataset()\n",
    "df = utils.clean_dataset(df)"
   ],
   "metadata": {
    "collapsed": false
   }
  },
  {
   "cell_type": "code",
   "execution_count": 18,
   "outputs": [
    {
     "data": {
      "text/plain": "Little Women                 17\nThe Secret Garden            16\nOthello                      15\nEmma                         14\nCinderella                   14\nA Christmas Carol            14\nThe Scarlet Letter           14\nJane Eyre                    14\nTreasure Island              14\nThe Age of Innocence         13\nCollected Poems              13\nThe Emperor's New Clothes    13\nAnne of Green Gables         13\nWuthering Heights            13\nGulliver's Travels           13\nAesop's Fables               13\nThe Wind in the Willows      13\nMiddlemarch                  13\nJulius Caesar                13\nThe Art of War               13\nOliver Twist                 13\nGreat Expectations           13\nFrankenstein                 13\nA Tale of Two Cities         13\nPride and Prejudice          12\nWhite Fang                   12\nPeter Pan                    12\nParadise                     12\nA Little Princess            12\nThe Mayor of Casterbridge    12\nName: Name, dtype: int64"
     },
     "execution_count": 18,
     "metadata": {},
     "output_type": "execute_result"
    }
   ],
   "source": [
    "df.Name.value_counts(sort='descending').head(30)"
   ],
   "metadata": {
    "collapsed": false
   }
  },
  {
   "cell_type": "code",
   "execution_count": 33,
   "outputs": [
    {
     "data": {
      "text/plain": "                  Name              Authors  Rating  PublishYear  \\\n21227   The Art of War              Sun Tzu    3.97         1988   \n13787   The Art of War  Niccolò Machiavelli    4.06         1996   \n53394   The Art of War              Sun Tzu    3.97         2009   \n32362   The Art of War              Sun Tzu    3.97         2007   \n6438    The Art of War              Sun Tzu    3.97         2005   \n10316   The Art of War              Sun Tzu    3.97         1991   \n45757   The Art of War              Sun Tzu    3.97         2007   \n35054   The Art of War              Sun Tzu    3.97         1996   \n14679   The Art of War              Sun Tzu    3.97         2008   \n30509   The Art of War              Sun Tzu    3.97         2003   \n10203   The Art of War              Sun Tzu    3.97         2000   \n153499  The Art of War              Sun Tzu    3.97         2008   \n178965  The Art of War              Sun Tzu    3.97         2008   \n\n                     Publisher  PagesNumber  \\\n21227          David & Charles          128   \n13787            Penguin Books           64   \n53394        Waking Lion Press          204   \n32362     www.bnpublishing.com          112   \n6438                   Penguin          101   \n10316                Shambhala          172   \n45757     www.bnpublishing.com           76   \n35054         Audio Literature            2   \n14679          Shambhala Audio            0   \n30509   Barnes  Noble Classics          227   \n10203                Shambhala          272   \n153499        Cliff Road Books          384   \n178965        Penguin Classics          112   \n\n                                              Description  TotalReviews  \n21227   Twenty-Five Hundred years ago, Sun Tzu wrote t...        313621  \n13787   Voltaire said, \"Machiavelli taught Europe the ...          7186  \n53394   Sun Tzu said: \"The art of war is of vital impo...        308233  \n32362   Twenty-Five Hundred years ago, Sun Tzu wrote t...        310562  \n6438    Throughout history, some books have changed th...        312902  \n10316   <i>The Art of War</i> is the Swiss army knife ...        311378  \n45757   In this paperback book you will find the link ...        309218  \n35054   Here is a seminal work on the philosophy of su...        319866  \n14679   Compiled more than two thousand years ago by a...        313977  \n30509   <i>The Art of War</i>, by <b>Sun Tzu</b>, is p...        309879  \n10203   <i>The Art of War</i> was written over 2,300 y...        310925  \n153499  This library-quality, collector's slipcased co...        325921  \n178965  Still a source of inspiration for soldiers on ...        332733  ",
      "text/html": "<div>\n<style scoped>\n    .dataframe tbody tr th:only-of-type {\n        vertical-align: middle;\n    }\n\n    .dataframe tbody tr th {\n        vertical-align: top;\n    }\n\n    .dataframe thead th {\n        text-align: right;\n    }\n</style>\n<table border=\"1\" class=\"dataframe\">\n  <thead>\n    <tr style=\"text-align: right;\">\n      <th></th>\n      <th>Name</th>\n      <th>Authors</th>\n      <th>Rating</th>\n      <th>PublishYear</th>\n      <th>Publisher</th>\n      <th>PagesNumber</th>\n      <th>Description</th>\n      <th>TotalReviews</th>\n    </tr>\n  </thead>\n  <tbody>\n    <tr>\n      <th>21227</th>\n      <td>The Art of War</td>\n      <td>Sun Tzu</td>\n      <td>3.97</td>\n      <td>1988</td>\n      <td>David &amp; Charles</td>\n      <td>128</td>\n      <td>Twenty-Five Hundred years ago, Sun Tzu wrote t...</td>\n      <td>313621</td>\n    </tr>\n    <tr>\n      <th>13787</th>\n      <td>The Art of War</td>\n      <td>Niccolò Machiavelli</td>\n      <td>4.06</td>\n      <td>1996</td>\n      <td>Penguin Books</td>\n      <td>64</td>\n      <td>Voltaire said, \"Machiavelli taught Europe the ...</td>\n      <td>7186</td>\n    </tr>\n    <tr>\n      <th>53394</th>\n      <td>The Art of War</td>\n      <td>Sun Tzu</td>\n      <td>3.97</td>\n      <td>2009</td>\n      <td>Waking Lion Press</td>\n      <td>204</td>\n      <td>Sun Tzu said: \"The art of war is of vital impo...</td>\n      <td>308233</td>\n    </tr>\n    <tr>\n      <th>32362</th>\n      <td>The Art of War</td>\n      <td>Sun Tzu</td>\n      <td>3.97</td>\n      <td>2007</td>\n      <td>www.bnpublishing.com</td>\n      <td>112</td>\n      <td>Twenty-Five Hundred years ago, Sun Tzu wrote t...</td>\n      <td>310562</td>\n    </tr>\n    <tr>\n      <th>6438</th>\n      <td>The Art of War</td>\n      <td>Sun Tzu</td>\n      <td>3.97</td>\n      <td>2005</td>\n      <td>Penguin</td>\n      <td>101</td>\n      <td>Throughout history, some books have changed th...</td>\n      <td>312902</td>\n    </tr>\n    <tr>\n      <th>10316</th>\n      <td>The Art of War</td>\n      <td>Sun Tzu</td>\n      <td>3.97</td>\n      <td>1991</td>\n      <td>Shambhala</td>\n      <td>172</td>\n      <td>&lt;i&gt;The Art of War&lt;/i&gt; is the Swiss army knife ...</td>\n      <td>311378</td>\n    </tr>\n    <tr>\n      <th>45757</th>\n      <td>The Art of War</td>\n      <td>Sun Tzu</td>\n      <td>3.97</td>\n      <td>2007</td>\n      <td>www.bnpublishing.com</td>\n      <td>76</td>\n      <td>In this paperback book you will find the link ...</td>\n      <td>309218</td>\n    </tr>\n    <tr>\n      <th>35054</th>\n      <td>The Art of War</td>\n      <td>Sun Tzu</td>\n      <td>3.97</td>\n      <td>1996</td>\n      <td>Audio Literature</td>\n      <td>2</td>\n      <td>Here is a seminal work on the philosophy of su...</td>\n      <td>319866</td>\n    </tr>\n    <tr>\n      <th>14679</th>\n      <td>The Art of War</td>\n      <td>Sun Tzu</td>\n      <td>3.97</td>\n      <td>2008</td>\n      <td>Shambhala Audio</td>\n      <td>0</td>\n      <td>Compiled more than two thousand years ago by a...</td>\n      <td>313977</td>\n    </tr>\n    <tr>\n      <th>30509</th>\n      <td>The Art of War</td>\n      <td>Sun Tzu</td>\n      <td>3.97</td>\n      <td>2003</td>\n      <td>Barnes  Noble Classics</td>\n      <td>227</td>\n      <td>&lt;i&gt;The Art of War&lt;/i&gt;, by &lt;b&gt;Sun Tzu&lt;/b&gt;, is p...</td>\n      <td>309879</td>\n    </tr>\n    <tr>\n      <th>10203</th>\n      <td>The Art of War</td>\n      <td>Sun Tzu</td>\n      <td>3.97</td>\n      <td>2000</td>\n      <td>Shambhala</td>\n      <td>272</td>\n      <td>&lt;i&gt;The Art of War&lt;/i&gt; was written over 2,300 y...</td>\n      <td>310925</td>\n    </tr>\n    <tr>\n      <th>153499</th>\n      <td>The Art of War</td>\n      <td>Sun Tzu</td>\n      <td>3.97</td>\n      <td>2008</td>\n      <td>Cliff Road Books</td>\n      <td>384</td>\n      <td>This library-quality, collector's slipcased co...</td>\n      <td>325921</td>\n    </tr>\n    <tr>\n      <th>178965</th>\n      <td>The Art of War</td>\n      <td>Sun Tzu</td>\n      <td>3.97</td>\n      <td>2008</td>\n      <td>Penguin Classics</td>\n      <td>112</td>\n      <td>Still a source of inspiration for soldiers on ...</td>\n      <td>332733</td>\n    </tr>\n  </tbody>\n</table>\n</div>"
     },
     "execution_count": 33,
     "metadata": {},
     "output_type": "execute_result"
    }
   ],
   "source": [
    "df[df.Name == 'The Art of War']"
   ],
   "metadata": {
    "collapsed": false
   }
  },
  {
   "cell_type": "code",
   "execution_count": 25,
   "outputs": [
    {
     "data": {
      "text/plain": "                                                                          PublishYear  \\\nName                                               Authors                              \n!%@:: A Directory of Electronic Mail Addressing... Rick Adams                    1993   \n!Arrebátalo!: La fe que se mantiene firme ante ... Judy Jacobs                   2006   \n!Buen viaje!, Course 1, Student Edition            McGraw-Hill Education         1999   \n!Búscalo! (Look It Up!): A Quick Reference Guid... William M. Clarkson           1998   \n!Click Song                                        John A.   Williams            1987   \n\n                                                                                        Publisher  \\\nName                                               Authors                                          \n!%@:: A Directory of Electronic Mail Addressing... Rick Adams                    [O'Reilly Media]   \n!Arrebátalo!: La fe que se mantiene firme ante ... Judy Jacobs                    [Casa Creación]   \n!Buen viaje!, Course 1, Student Edition            McGraw-Hill Education                [Unknown]   \n!Búscalo! (Look It Up!): A Quick Reference Guid... William M. Clarkson                    [Wiley]   \n!Click Song                                        John A.   Williams     [Thunder's Mouth Press]   \n\n                                                                          PagesNumber  \\\nName                                               Authors                              \n!%@:: A Directory of Electronic Mail Addressing... Rick Adams                   458.0   \n!Arrebátalo!: La fe que se mantiene firme ante ... Judy Jacobs                  254.0   \n!Buen viaje!, Course 1, Student Edition            McGraw-Hill Education        514.0   \n!Búscalo! (Look It Up!): A Quick Reference Guid... William M. Clarkson          224.0   \n!Click Song                                        John A.   Williams           430.0   \n\n                                                                          TotalReviews  \\\nName                                               Authors                               \n!%@:: A Directory of Electronic Mail Addressing... Rick Adams                        0   \n!Arrebátalo!: La fe que se mantiene firme ante ... Judy Jacobs                       2   \n!Buen viaje!, Course 1, Student Edition            McGraw-Hill Education             5   \n!Búscalo! (Look It Up!): A Quick Reference Guid... William M. Clarkson              11   \n!Click Song                                        John A.   Williams               20   \n\n                                                                                                                Description  \nName                                               Authors                                                                   \n!%@:: A Directory of Electronic Mail Addressing... Rick Adams             These days, it's a rare person who hasn't hear...  \n!Arrebátalo!: La fe que se mantiene firme ante ... Judy Jacobs            <i>¡Aprende a caminar en el poder de la fe vio...  \n!Buen viaje!, Course 1, Student Edition            McGraw-Hill Education  This three-level program brings you every reso...  \n!Búscalo! (Look It Up!): A Quick Reference Guid... William M. Clarkson    A novel approach--very useful for quick refere...  \n!Click Song                                        John A.   Williams     At lunch in a restaurant on the East Side, Cat...  ",
      "text/html": "<div>\n<style scoped>\n    .dataframe tbody tr th:only-of-type {\n        vertical-align: middle;\n    }\n\n    .dataframe tbody tr th {\n        vertical-align: top;\n    }\n\n    .dataframe thead th {\n        text-align: right;\n    }\n</style>\n<table border=\"1\" class=\"dataframe\">\n  <thead>\n    <tr style=\"text-align: right;\">\n      <th></th>\n      <th></th>\n      <th>PublishYear</th>\n      <th>Publisher</th>\n      <th>PagesNumber</th>\n      <th>TotalReviews</th>\n      <th>Description</th>\n    </tr>\n    <tr>\n      <th>Name</th>\n      <th>Authors</th>\n      <th></th>\n      <th></th>\n      <th></th>\n      <th></th>\n      <th></th>\n    </tr>\n  </thead>\n  <tbody>\n    <tr>\n      <th>!%@:: A Directory of Electronic Mail Addressing &amp; Networks</th>\n      <th>Rick Adams</th>\n      <td>1993</td>\n      <td>[O'Reilly Media]</td>\n      <td>458.0</td>\n      <td>0</td>\n      <td>These days, it's a rare person who hasn't hear...</td>\n    </tr>\n    <tr>\n      <th>!Arrebátalo!: La fe que se mantiene firme ante la oposición</th>\n      <th>Judy Jacobs</th>\n      <td>2006</td>\n      <td>[Casa Creación]</td>\n      <td>254.0</td>\n      <td>2</td>\n      <td>&lt;i&gt;¡Aprende a caminar en el poder de la fe vio...</td>\n    </tr>\n    <tr>\n      <th>!Buen viaje!, Course 1, Student Edition</th>\n      <th>McGraw-Hill Education</th>\n      <td>1999</td>\n      <td>[Unknown]</td>\n      <td>514.0</td>\n      <td>5</td>\n      <td>This three-level program brings you every reso...</td>\n    </tr>\n    <tr>\n      <th>!Búscalo! (Look It Up!): A Quick Reference Guide to Spanish Grammar and Usage</th>\n      <th>William M. Clarkson</th>\n      <td>1998</td>\n      <td>[Wiley]</td>\n      <td>224.0</td>\n      <td>11</td>\n      <td>A novel approach--very useful for quick refere...</td>\n    </tr>\n    <tr>\n      <th>!Click Song</th>\n      <th>John A.   Williams</th>\n      <td>1987</td>\n      <td>[Thunder's Mouth Press]</td>\n      <td>430.0</td>\n      <td>20</td>\n      <td>At lunch in a restaurant on the East Side, Cat...</td>\n    </tr>\n  </tbody>\n</table>\n</div>"
     },
     "execution_count": 25,
     "metadata": {},
     "output_type": "execute_result"
    }
   ],
   "source": [
    "grouped_df = df.groupby(by=['Name', 'Authors']).agg({\n",
    "    'PublishYear': 'min',\n",
    "    'Publisher': list,\n",
    "    'PagesNumber': 'median',\n",
    "    'TotalReviews': 'max',\n",
    "    'Description': lambda series: series[series.str.len() == series.str.len().max()]\n",
    "})\n",
    "\n",
    "grouped_df.head()"
   ],
   "metadata": {
    "collapsed": false
   }
  },
  {
   "cell_type": "code",
   "execution_count": 28,
   "outputs": [],
   "source": [
    "grouped_df.reset_index(inplace=True)"
   ],
   "metadata": {
    "collapsed": false
   }
  },
  {
   "cell_type": "code",
   "execution_count": 32,
   "outputs": [
    {
     "data": {
      "text/plain": "                   Name           Authors  PublishYear  \\\n177242  Collected Poems       C.H. Sisson         1998   \n177243  Collected Poems     Edward Thomas         1979   \n177244  Collected Poems  Frances Horovitz         1985   \n177245  Collected Poems    Fred Whitehead         2003   \n177246  Collected Poems    George Seferis         1995   \n177247  Collected Poems        Henry Reed         2007   \n177248  Collected Poems     Hugo Williams         2005   \n177249  Collected Poems       Ivor Gurney         2010   \n177250  Collected Poems     John Betjeman         2006   \n177251  Collected Poems       Lee Harwood         2004   \n177252  Collected Poems        Les Murray         1998   \n177253  Collected Poems       Paul Auster         2007   \n177254  Collected Poems     Philip Larkin         1993   \n\n                             Publisher  PagesNumber  TotalReviews  \\\n177242                [Carcanet Press]        525.0             9   \n177243  [Quintessence Publishing (IL)]        190.0           200   \n177244                [Bloodaxe Books]        128.0            20   \n177245  [University of Illinois Press]        296.0             3   \n177246    [Princeton University Press]        299.0           339   \n177247                [Carcanet Press]        166.0             5   \n177248                  [Faber  Faber]        288.0            30   \n177249           [Carcanet Press Ltd.]        460.0            10   \n177250     [Farrar, Straus and Giroux]        528.0           437   \n177251               [Shearsman Books]        521.0            12   \n177252                [Carcanet Press]        476.0            55   \n177253                  [Faber  Faber]        205.0           265   \n177254             [The Noonday Press]        330.0          7934   \n\n                                              Description  \n177242  A collection of poems by C.H. Sisson. This tex...  \n177243  Though sometimes classified with Owen, Rosenbe...  \n177244  Frances Horovitz's poems have the clarity of b...  \n177245  This long-overdue collection, which gathers to...  \n177246  In this new edition of George Seferis's poems,...  \n177247  <div>\\n  <div>Henry Reed was one of the most c...  \n177248  In gathering four decades of work, Hugo Willia...  \n177249  P.J. Kavanagh's 1982 edition of the <i>Collect...  \n177250  Come, friendly bombs, and fall on Slough<br />...  \n177251  Poetry. This COLLECTED POEMS brings between a ...  \n177252  Les Murray's 1991 Collected Poems have been co...  \n177253  The figure of the young American poet living i...  \n177254  One of the best-known, best-loved poets of the...  ",
      "text/html": "<div>\n<style scoped>\n    .dataframe tbody tr th:only-of-type {\n        vertical-align: middle;\n    }\n\n    .dataframe tbody tr th {\n        vertical-align: top;\n    }\n\n    .dataframe thead th {\n        text-align: right;\n    }\n</style>\n<table border=\"1\" class=\"dataframe\">\n  <thead>\n    <tr style=\"text-align: right;\">\n      <th></th>\n      <th>Name</th>\n      <th>Authors</th>\n      <th>PublishYear</th>\n      <th>Publisher</th>\n      <th>PagesNumber</th>\n      <th>TotalReviews</th>\n      <th>Description</th>\n    </tr>\n  </thead>\n  <tbody>\n    <tr>\n      <th>177242</th>\n      <td>Collected Poems</td>\n      <td>C.H. Sisson</td>\n      <td>1998</td>\n      <td>[Carcanet Press]</td>\n      <td>525.0</td>\n      <td>9</td>\n      <td>A collection of poems by C.H. Sisson. This tex...</td>\n    </tr>\n    <tr>\n      <th>177243</th>\n      <td>Collected Poems</td>\n      <td>Edward Thomas</td>\n      <td>1979</td>\n      <td>[Quintessence Publishing (IL)]</td>\n      <td>190.0</td>\n      <td>200</td>\n      <td>Though sometimes classified with Owen, Rosenbe...</td>\n    </tr>\n    <tr>\n      <th>177244</th>\n      <td>Collected Poems</td>\n      <td>Frances Horovitz</td>\n      <td>1985</td>\n      <td>[Bloodaxe Books]</td>\n      <td>128.0</td>\n      <td>20</td>\n      <td>Frances Horovitz's poems have the clarity of b...</td>\n    </tr>\n    <tr>\n      <th>177245</th>\n      <td>Collected Poems</td>\n      <td>Fred Whitehead</td>\n      <td>2003</td>\n      <td>[University of Illinois Press]</td>\n      <td>296.0</td>\n      <td>3</td>\n      <td>This long-overdue collection, which gathers to...</td>\n    </tr>\n    <tr>\n      <th>177246</th>\n      <td>Collected Poems</td>\n      <td>George Seferis</td>\n      <td>1995</td>\n      <td>[Princeton University Press]</td>\n      <td>299.0</td>\n      <td>339</td>\n      <td>In this new edition of George Seferis's poems,...</td>\n    </tr>\n    <tr>\n      <th>177247</th>\n      <td>Collected Poems</td>\n      <td>Henry Reed</td>\n      <td>2007</td>\n      <td>[Carcanet Press]</td>\n      <td>166.0</td>\n      <td>5</td>\n      <td>&lt;div&gt;\\n  &lt;div&gt;Henry Reed was one of the most c...</td>\n    </tr>\n    <tr>\n      <th>177248</th>\n      <td>Collected Poems</td>\n      <td>Hugo Williams</td>\n      <td>2005</td>\n      <td>[Faber  Faber]</td>\n      <td>288.0</td>\n      <td>30</td>\n      <td>In gathering four decades of work, Hugo Willia...</td>\n    </tr>\n    <tr>\n      <th>177249</th>\n      <td>Collected Poems</td>\n      <td>Ivor Gurney</td>\n      <td>2010</td>\n      <td>[Carcanet Press Ltd.]</td>\n      <td>460.0</td>\n      <td>10</td>\n      <td>P.J. Kavanagh's 1982 edition of the &lt;i&gt;Collect...</td>\n    </tr>\n    <tr>\n      <th>177250</th>\n      <td>Collected Poems</td>\n      <td>John Betjeman</td>\n      <td>2006</td>\n      <td>[Farrar, Straus and Giroux]</td>\n      <td>528.0</td>\n      <td>437</td>\n      <td>Come, friendly bombs, and fall on Slough&lt;br /&gt;...</td>\n    </tr>\n    <tr>\n      <th>177251</th>\n      <td>Collected Poems</td>\n      <td>Lee Harwood</td>\n      <td>2004</td>\n      <td>[Shearsman Books]</td>\n      <td>521.0</td>\n      <td>12</td>\n      <td>Poetry. This COLLECTED POEMS brings between a ...</td>\n    </tr>\n    <tr>\n      <th>177252</th>\n      <td>Collected Poems</td>\n      <td>Les Murray</td>\n      <td>1998</td>\n      <td>[Carcanet Press]</td>\n      <td>476.0</td>\n      <td>55</td>\n      <td>Les Murray's 1991 Collected Poems have been co...</td>\n    </tr>\n    <tr>\n      <th>177253</th>\n      <td>Collected Poems</td>\n      <td>Paul Auster</td>\n      <td>2007</td>\n      <td>[Faber  Faber]</td>\n      <td>205.0</td>\n      <td>265</td>\n      <td>The figure of the young American poet living i...</td>\n    </tr>\n    <tr>\n      <th>177254</th>\n      <td>Collected Poems</td>\n      <td>Philip Larkin</td>\n      <td>1993</td>\n      <td>[The Noonday Press]</td>\n      <td>330.0</td>\n      <td>7934</td>\n      <td>One of the best-known, best-loved poets of the...</td>\n    </tr>\n  </tbody>\n</table>\n</div>"
     },
     "execution_count": 32,
     "metadata": {},
     "output_type": "execute_result"
    }
   ],
   "source": [
    "grouped_df[grouped_df.Name == 'Collected Poems']"
   ],
   "metadata": {
    "collapsed": false
   }
  }
 ],
 "metadata": {
  "kernelspec": {
   "display_name": "Python 3",
   "language": "python",
   "name": "python3"
  },
  "language_info": {
   "codemirror_mode": {
    "name": "ipython",
    "version": 2
   },
   "file_extension": ".py",
   "mimetype": "text/x-python",
   "name": "python",
   "nbconvert_exporter": "python",
   "pygments_lexer": "ipython2",
   "version": "2.7.6"
  }
 },
 "nbformat": 4,
 "nbformat_minor": 0
}
