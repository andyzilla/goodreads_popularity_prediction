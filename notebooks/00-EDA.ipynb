{
 "cells": [
  {
   "cell_type": "code",
   "execution_count": 50,
   "metadata": {},
   "outputs": [],
   "source": [
    "import pandas as pd\n",
    "import numpy as np\n",
    "# import matplotlib.pyplot as plt\n",
    "import seaborn as sns\n",
    "sns.set(rc={'figure.figsize':(11.7,8.27)})\n",
    "# %matplotlib inline"
   ]
  },
  {
   "cell_type": "markdown",
   "metadata": {},
   "source": [
    "# 1) Load data and Overview"
   ]
  },
  {
   "cell_type": "code",
   "execution_count": 2,
   "metadata": {},
   "outputs": [],
   "source": [
    "df = pd.read_csv('../data/book100k-200k.csv')"
   ]
  },
  {
   "cell_type": "code",
   "execution_count": 3,
   "metadata": {},
   "outputs": [
    {
     "data": {
      "text/plain": [
       "1026828"
      ]
     },
     "execution_count": 3,
     "metadata": {},
     "output_type": "execute_result"
    }
   ],
   "source": [
    "df.size"
   ]
  },
  {
   "cell_type": "code",
   "execution_count": 4,
   "metadata": {},
   "outputs": [
    {
     "data": {
      "text/html": [
       "<div>\n",
       "<style scoped>\n",
       "    .dataframe tbody tr th:only-of-type {\n",
       "        vertical-align: middle;\n",
       "    }\n",
       "\n",
       "    .dataframe tbody tr th {\n",
       "        vertical-align: top;\n",
       "    }\n",
       "\n",
       "    .dataframe thead th {\n",
       "        text-align: right;\n",
       "    }\n",
       "</style>\n",
       "<table border=\"1\" class=\"dataframe\">\n",
       "  <thead>\n",
       "    <tr style=\"text-align: right;\">\n",
       "      <th></th>\n",
       "      <th>pagesNumber</th>\n",
       "      <th>Rating</th>\n",
       "      <th>CountsOfReview</th>\n",
       "      <th>PublishDay</th>\n",
       "      <th>PublishMonth</th>\n",
       "      <th>Id</th>\n",
       "      <th>PublishYear</th>\n",
       "    </tr>\n",
       "  </thead>\n",
       "  <tbody>\n",
       "    <tr>\n",
       "      <th>count</th>\n",
       "      <td>5.704600e+04</td>\n",
       "      <td>57046.000000</td>\n",
       "      <td>57046.000000</td>\n",
       "      <td>57046.000000</td>\n",
       "      <td>57046.000000</td>\n",
       "      <td>57046.000000</td>\n",
       "      <td>57046.000000</td>\n",
       "    </tr>\n",
       "    <tr>\n",
       "      <th>mean</th>\n",
       "      <td>3.244922e+02</td>\n",
       "      <td>3.542262</td>\n",
       "      <td>37.355345</td>\n",
       "      <td>6.310434</td>\n",
       "      <td>10.008432</td>\n",
       "      <td>149349.653736</td>\n",
       "      <td>1998.998177</td>\n",
       "    </tr>\n",
       "    <tr>\n",
       "      <th>std</th>\n",
       "      <td>9.482250e+03</td>\n",
       "      <td>1.189968</td>\n",
       "      <td>370.091928</td>\n",
       "      <td>3.608969</td>\n",
       "      <td>10.401136</td>\n",
       "      <td>28933.167578</td>\n",
       "      <td>8.689114</td>\n",
       "    </tr>\n",
       "    <tr>\n",
       "      <th>min</th>\n",
       "      <td>0.000000e+00</td>\n",
       "      <td>0.000000</td>\n",
       "      <td>0.000000</td>\n",
       "      <td>1.000000</td>\n",
       "      <td>1.000000</td>\n",
       "      <td>100000.000000</td>\n",
       "      <td>1623.000000</td>\n",
       "    </tr>\n",
       "    <tr>\n",
       "      <th>25%</th>\n",
       "      <td>1.600000e+02</td>\n",
       "      <td>3.540000</td>\n",
       "      <td>0.000000</td>\n",
       "      <td>3.000000</td>\n",
       "      <td>1.000000</td>\n",
       "      <td>124114.250000</td>\n",
       "      <td>1996.000000</td>\n",
       "    </tr>\n",
       "    <tr>\n",
       "      <th>50%</th>\n",
       "      <td>2.510000e+02</td>\n",
       "      <td>3.890000</td>\n",
       "      <td>2.000000</td>\n",
       "      <td>6.000000</td>\n",
       "      <td>5.000000</td>\n",
       "      <td>149387.500000</td>\n",
       "      <td>2001.000000</td>\n",
       "    </tr>\n",
       "    <tr>\n",
       "      <th>75%</th>\n",
       "      <td>3.520000e+02</td>\n",
       "      <td>4.120000</td>\n",
       "      <td>12.000000</td>\n",
       "      <td>9.000000</td>\n",
       "      <td>18.000000</td>\n",
       "      <td>174562.750000</td>\n",
       "      <td>2005.000000</td>\n",
       "    </tr>\n",
       "    <tr>\n",
       "      <th>max</th>\n",
       "      <td>2.254246e+06</td>\n",
       "      <td>5.000000</td>\n",
       "      <td>52088.000000</td>\n",
       "      <td>12.000000</td>\n",
       "      <td>31.000000</td>\n",
       "      <td>199999.000000</td>\n",
       "      <td>2020.000000</td>\n",
       "    </tr>\n",
       "  </tbody>\n",
       "</table>\n",
       "</div>"
      ],
      "text/plain": [
       "        pagesNumber        Rating  CountsOfReview    PublishDay  PublishMonth  \\\n",
       "count  5.704600e+04  57046.000000    57046.000000  57046.000000  57046.000000   \n",
       "mean   3.244922e+02      3.542262       37.355345      6.310434     10.008432   \n",
       "std    9.482250e+03      1.189968      370.091928      3.608969     10.401136   \n",
       "min    0.000000e+00      0.000000        0.000000      1.000000      1.000000   \n",
       "25%    1.600000e+02      3.540000        0.000000      3.000000      1.000000   \n",
       "50%    2.510000e+02      3.890000        2.000000      6.000000      5.000000   \n",
       "75%    3.520000e+02      4.120000       12.000000      9.000000     18.000000   \n",
       "max    2.254246e+06      5.000000    52088.000000     12.000000     31.000000   \n",
       "\n",
       "                  Id   PublishYear  \n",
       "count   57046.000000  57046.000000  \n",
       "mean   149349.653736   1998.998177  \n",
       "std     28933.167578      8.689114  \n",
       "min    100000.000000   1623.000000  \n",
       "25%    124114.250000   1996.000000  \n",
       "50%    149387.500000   2001.000000  \n",
       "75%    174562.750000   2005.000000  \n",
       "max    199999.000000   2020.000000  "
      ]
     },
     "execution_count": 4,
     "metadata": {},
     "output_type": "execute_result"
    }
   ],
   "source": [
    "df.describe()"
   ]
  },
  {
   "cell_type": "code",
   "execution_count": 5,
   "metadata": {
    "scrolled": true
   },
   "outputs": [
    {
     "data": {
      "text/html": [
       "<div>\n",
       "<style scoped>\n",
       "    .dataframe tbody tr th:only-of-type {\n",
       "        vertical-align: middle;\n",
       "    }\n",
       "\n",
       "    .dataframe tbody tr th {\n",
       "        vertical-align: top;\n",
       "    }\n",
       "\n",
       "    .dataframe thead th {\n",
       "        text-align: right;\n",
       "    }\n",
       "</style>\n",
       "<table border=\"1\" class=\"dataframe\">\n",
       "  <thead>\n",
       "    <tr style=\"text-align: right;\">\n",
       "      <th></th>\n",
       "      <th>pagesNumber</th>\n",
       "      <th>Authors</th>\n",
       "      <th>Publisher</th>\n",
       "      <th>Rating</th>\n",
       "      <th>Language</th>\n",
       "      <th>RatingDistTotal</th>\n",
       "      <th>RatingDist5</th>\n",
       "      <th>RatingDist3</th>\n",
       "      <th>CountsOfReview</th>\n",
       "      <th>PublishDay</th>\n",
       "      <th>ISBN</th>\n",
       "      <th>RatingDist4</th>\n",
       "      <th>PublishMonth</th>\n",
       "      <th>Id</th>\n",
       "      <th>PublishYear</th>\n",
       "      <th>RatingDist1</th>\n",
       "      <th>RatingDist2</th>\n",
       "      <th>Name</th>\n",
       "    </tr>\n",
       "  </thead>\n",
       "  <tbody>\n",
       "    <tr>\n",
       "      <th>0</th>\n",
       "      <td>400</td>\n",
       "      <td>Royce Flippin</td>\n",
       "      <td>PublicAffairs</td>\n",
       "      <td>4.18</td>\n",
       "      <td>NaN</td>\n",
       "      <td>total:11</td>\n",
       "      <td>5:3</td>\n",
       "      <td>3:1</td>\n",
       "      <td>1</td>\n",
       "      <td>9</td>\n",
       "      <td>1560256133</td>\n",
       "      <td>4:7</td>\n",
       "      <td>20</td>\n",
       "      <td>100000</td>\n",
       "      <td>2004</td>\n",
       "      <td>1:0</td>\n",
       "      <td>2:0</td>\n",
       "      <td>The Best American Political Writing 2004: Spec...</td>\n",
       "    </tr>\n",
       "    <tr>\n",
       "      <th>1</th>\n",
       "      <td>30</td>\n",
       "      <td>Gail Sakurai</td>\n",
       "      <td>Turtleback Books</td>\n",
       "      <td>4.00</td>\n",
       "      <td>NaN</td>\n",
       "      <td>total:6</td>\n",
       "      <td>5:2</td>\n",
       "      <td>3:2</td>\n",
       "      <td>0</td>\n",
       "      <td>9</td>\n",
       "      <td>061390737X</td>\n",
       "      <td>4:2</td>\n",
       "      <td>1</td>\n",
       "      <td>100004</td>\n",
       "      <td>1996</td>\n",
       "      <td>1:0</td>\n",
       "      <td>2:0</td>\n",
       "      <td>Stephen Hawking: Understanding the Universe</td>\n",
       "    </tr>\n",
       "    <tr>\n",
       "      <th>2</th>\n",
       "      <td>16</td>\n",
       "      <td>Sandi Hill</td>\n",
       "      <td>Creative Teaching Press</td>\n",
       "      <td>3.60</td>\n",
       "      <td>NaN</td>\n",
       "      <td>total:5</td>\n",
       "      <td>5:0</td>\n",
       "      <td>3:2</td>\n",
       "      <td>2</td>\n",
       "      <td>3</td>\n",
       "      <td>1574713388</td>\n",
       "      <td>4:3</td>\n",
       "      <td>1</td>\n",
       "      <td>100007</td>\n",
       "      <td>1998</td>\n",
       "      <td>1:0</td>\n",
       "      <td>2:0</td>\n",
       "      <td>Detective Dog and the Search for Cat</td>\n",
       "    </tr>\n",
       "    <tr>\n",
       "      <th>3</th>\n",
       "      <td>280</td>\n",
       "      <td>Bob Butz</td>\n",
       "      <td>Lyons Press</td>\n",
       "      <td>3.21</td>\n",
       "      <td>NaN</td>\n",
       "      <td>total:29</td>\n",
       "      <td>5:3</td>\n",
       "      <td>3:12</td>\n",
       "      <td>6</td>\n",
       "      <td>1</td>\n",
       "      <td>1592284469</td>\n",
       "      <td>4:8</td>\n",
       "      <td>1</td>\n",
       "      <td>100010</td>\n",
       "      <td>2005</td>\n",
       "      <td>1:2</td>\n",
       "      <td>2:4</td>\n",
       "      <td>Beast of Never, Cat of God: The Search for the...</td>\n",
       "    </tr>\n",
       "    <tr>\n",
       "      <th>4</th>\n",
       "      <td>193</td>\n",
       "      <td>Raymond B. Marcin</td>\n",
       "      <td>Catholic University of America Press</td>\n",
       "      <td>3.43</td>\n",
       "      <td>NaN</td>\n",
       "      <td>total:7</td>\n",
       "      <td>5:0</td>\n",
       "      <td>3:2</td>\n",
       "      <td>0</td>\n",
       "      <td>2</td>\n",
       "      <td>0813214300</td>\n",
       "      <td>4:4</td>\n",
       "      <td>3</td>\n",
       "      <td>100011</td>\n",
       "      <td>2006</td>\n",
       "      <td>1:0</td>\n",
       "      <td>2:1</td>\n",
       "      <td>In Search of Schopenhauer's Cat: Arthur Schope...</td>\n",
       "    </tr>\n",
       "  </tbody>\n",
       "</table>\n",
       "</div>"
      ],
      "text/plain": [
       "   pagesNumber            Authors                             Publisher  \\\n",
       "0          400      Royce Flippin                         PublicAffairs   \n",
       "1           30       Gail Sakurai                      Turtleback Books   \n",
       "2           16         Sandi Hill               Creative Teaching Press   \n",
       "3          280           Bob Butz                           Lyons Press   \n",
       "4          193  Raymond B. Marcin  Catholic University of America Press   \n",
       "\n",
       "   Rating Language RatingDistTotal RatingDist5 RatingDist3  CountsOfReview  \\\n",
       "0    4.18      NaN        total:11         5:3         3:1               1   \n",
       "1    4.00      NaN         total:6         5:2         3:2               0   \n",
       "2    3.60      NaN         total:5         5:0         3:2               2   \n",
       "3    3.21      NaN        total:29         5:3        3:12               6   \n",
       "4    3.43      NaN         total:7         5:0         3:2               0   \n",
       "\n",
       "   PublishDay        ISBN RatingDist4  PublishMonth      Id  PublishYear  \\\n",
       "0           9  1560256133         4:7            20  100000         2004   \n",
       "1           9  061390737X         4:2             1  100004         1996   \n",
       "2           3  1574713388         4:3             1  100007         1998   \n",
       "3           1  1592284469         4:8             1  100010         2005   \n",
       "4           2  0813214300         4:4             3  100011         2006   \n",
       "\n",
       "  RatingDist1 RatingDist2                                               Name  \n",
       "0         1:0         2:0  The Best American Political Writing 2004: Spec...  \n",
       "1         1:0         2:0        Stephen Hawking: Understanding the Universe  \n",
       "2         1:0         2:0               Detective Dog and the Search for Cat  \n",
       "3         1:2         2:4  Beast of Never, Cat of God: The Search for the...  \n",
       "4         1:0         2:1  In Search of Schopenhauer's Cat: Arthur Schope...  "
      ]
     },
     "execution_count": 5,
     "metadata": {},
     "output_type": "execute_result"
    }
   ],
   "source": [
    "df.head()"
   ]
  },
  {
   "cell_type": "code",
   "execution_count": 6,
   "metadata": {},
   "outputs": [
    {
     "data": {
      "text/plain": [
       "pagesNumber          int64\n",
       "Authors             object\n",
       "Publisher           object\n",
       "Rating             float64\n",
       "Language            object\n",
       "RatingDistTotal     object\n",
       "RatingDist5         object\n",
       "RatingDist3         object\n",
       "CountsOfReview       int64\n",
       "PublishDay           int64\n",
       "ISBN                object\n",
       "RatingDist4         object\n",
       "PublishMonth         int64\n",
       "Id                   int64\n",
       "PublishYear          int64\n",
       "RatingDist1         object\n",
       "RatingDist2         object\n",
       "Name                object\n",
       "dtype: object"
      ]
     },
     "execution_count": 6,
     "metadata": {},
     "output_type": "execute_result"
    }
   ],
   "source": [
    "df.dtypes"
   ]
  },
  {
   "cell_type": "markdown",
   "metadata": {},
   "source": [
    "# 2) Check for Duplications"
   ]
  },
  {
   "cell_type": "markdown",
   "metadata": {},
   "source": [
    "- There are no fully duplicated rows"
   ]
  },
  {
   "cell_type": "code",
   "execution_count": 7,
   "metadata": {},
   "outputs": [
    {
     "data": {
      "text/plain": [
       "0"
      ]
     },
     "execution_count": 7,
     "metadata": {},
     "output_type": "execute_result"
    }
   ],
   "source": [
    "df.duplicated(keep=False).sum()"
   ]
  },
  {
   "cell_type": "markdown",
   "metadata": {},
   "source": [
    "# 3) Check & Address NaN"
   ]
  },
  {
   "cell_type": "code",
   "execution_count": 8,
   "metadata": {
    "scrolled": false
   },
   "outputs": [
    {
     "data": {
      "text/plain": [
       "pagesNumber            0\n",
       "Authors                0\n",
       "Publisher            585\n",
       "Rating                 0\n",
       "Language           42892\n",
       "RatingDistTotal        0\n",
       "RatingDist5            0\n",
       "RatingDist3            0\n",
       "CountsOfReview         0\n",
       "PublishDay             0\n",
       "ISBN                 256\n",
       "RatingDist4            0\n",
       "PublishMonth           0\n",
       "Id                     0\n",
       "PublishYear            0\n",
       "RatingDist1            0\n",
       "RatingDist2            0\n",
       "Name                   0\n",
       "dtype: int64"
      ]
     },
     "execution_count": 8,
     "metadata": {},
     "output_type": "execute_result"
    }
   ],
   "source": [
    "df.isna().sum()"
   ]
  },
  {
   "cell_type": "markdown",
   "metadata": {},
   "source": [
    "## Publisher:\n",
    "\n",
    "- If publisher is NaN, it's usually classics or religious (e.g. the Bible, or Plato's Republic)"
   ]
  },
  {
   "cell_type": "code",
   "execution_count": 9,
   "metadata": {
    "scrolled": false
   },
   "outputs": [
    {
     "data": {
      "text/plain": [
       "283        Daphne Dragon (Pull-out Books) (Mini-monsters)\n",
       "421                  Titan God Machine (Titan 1, 2 and 3)\n",
       "575                                            Republic 1\n",
       "693     Brodie's Notes On Alan Sillitoe's Selected Fic...\n",
       "905       Adventures in Odyssey: At Home and Abroad (#13)\n",
       "908                                         Odyssey I–XII\n",
       "1007        Holy Image, Hallowed Ground: Icons from Sinai\n",
       "1070    Idea De La Muerte En Mexico/ Idea of the Death...\n",
       "1082    History of Civilization: The Northern European...\n",
       "1271                                  Animal Farm (Plays)\n",
       "Name: Name, dtype: object"
      ]
     },
     "execution_count": 9,
     "metadata": {},
     "output_type": "execute_result"
    }
   ],
   "source": [
    "df[df['Publisher'].isna()]['Name'].head(10)"
   ]
  },
  {
   "cell_type": "markdown",
   "metadata": {},
   "source": [
    "- Therefore, we have decided to encode NaN Publisher values as \"Unknown\""
   ]
  },
  {
   "cell_type": "code",
   "execution_count": 10,
   "metadata": {},
   "outputs": [
    {
     "name": "stdout",
     "output_type": "stream",
     "text": [
      "585 NaN values replaced by \"Unknown\"\n"
     ]
    }
   ],
   "source": [
    "print(df['Publisher'].isna().sum().astype(str) + ' NaN values replaced by \"Unknown\"')\n",
    "df['Publisher'] = df['Publisher'].fillna(\"Unknown\")"
   ]
  },
  {
   "cell_type": "markdown",
   "metadata": {},
   "source": [
    "## Language:\n",
    "\n"
   ]
  },
  {
   "cell_type": "markdown",
   "metadata": {},
   "source": [
    "- After checking multiple samples of rows with NaN values for \"Language\", we have realised most titles (Name) are in English."
   ]
  },
  {
   "cell_type": "code",
   "execution_count": 11,
   "metadata": {
    "scrolled": true
   },
   "outputs": [
    {
     "data": {
      "text/plain": [
       "40991    Early Learning Goals for Children with Special...\n",
       "36727    The Computational Neurobiology of Reaching and...\n",
       "46352       International Advertising: Realities and Myths\n",
       "32264                                              Shabono\n",
       "19883    Contingency Cannibalism: Superhardcore Surviva...\n",
       "34070    The Mood Cure: The 4-Step Program to Take Char...\n",
       "1098     The Tao Te Ching: A New Translation with Comme...\n",
       "31915    Sheltered Content Instruction: Teaching Englis...\n",
       "19494    Governing California: Politics, Government, an...\n",
       "7113     Inner Christianity: A Guide to the Esoteric Tr...\n",
       "19631      Spirit and Reason: The Vine Deloria, Jr. Reader\n",
       "29315    The Mind-Body Makeover Project: A 12-Week Plan...\n",
       "1595     Acres of Aspiration: The All-Black Towns in Ok...\n",
       "5989                                       My Name Is Iran\n",
       "39595                                 Here Comes the Judge\n",
       "52617    Behind Closed Doors: Women's Oral Narratives i...\n",
       "24682                            After You with the Pistol\n",
       "5686       Last Dance: Behind the Scenes at the Final Four\n",
       "10308                          Thinkers Twenty Year Crisis\n",
       "56040    Maverick Marine: General Smedley D. Butler and...\n",
       "Name: Name, dtype: object"
      ]
     },
     "execution_count": 11,
     "metadata": {},
     "output_type": "execute_result"
    }
   ],
   "source": [
    "# Check titles of samples that have NaN language values to see if there's a frequent language. It's English.\n",
    "\n",
    "# TODO implement a heuristic tool with the most popular English stopwords\n",
    "\n",
    "df[df['Language'].isna()].sample(20)['Name']"
   ]
  },
  {
   "cell_type": "markdown",
   "metadata": {},
   "source": [
    "- The majority of the titles of the dataset are also in English."
   ]
  },
  {
   "cell_type": "code",
   "execution_count": 12,
   "metadata": {},
   "outputs": [
    {
     "data": {
      "text/plain": [
       "eng      10938\n",
       "en-US     1663\n",
       "fre        444\n",
       "en-GB      435\n",
       "spa        293\n",
       "ger        222\n",
       "ita         43\n",
       "zho         25\n",
       "rus         12\n",
       "por         11\n",
       "Name: Language, dtype: int64"
      ]
     },
     "execution_count": 12,
     "metadata": {},
     "output_type": "execute_result"
    }
   ],
   "source": [
    "# Check the most common language, it's English\n",
    "\n",
    "df['Language'].value_counts().head(10)"
   ]
  },
  {
   "cell_type": "markdown",
   "metadata": {},
   "source": [
    "- We have decided to encode NaN \"Language\" values as \"eng\""
   ]
  },
  {
   "cell_type": "code",
   "execution_count": 13,
   "metadata": {},
   "outputs": [
    {
     "name": "stdout",
     "output_type": "stream",
     "text": [
      "42892 NaN values replaced by \"eng\"\n"
     ]
    }
   ],
   "source": [
    "print(df['Language'].isna().sum().astype(str) + ' NaN values replaced by \"eng\"')\n",
    "df['Language'] = df['Language'].fillna('eng')"
   ]
  },
  {
   "cell_type": "markdown",
   "metadata": {},
   "source": [
    "- After checking unique values for \"Language\", we have decided to encode all variations of English as \"eng\""
   ]
  },
  {
   "cell_type": "code",
   "execution_count": 14,
   "metadata": {},
   "outputs": [
    {
     "data": {
      "text/plain": [
       "array(['eng', 'en-GB', 'en-US', 'spa', 'ger', 'por', 'fre', 'grc', 'mul',\n",
       "       'zho', 'rus', 'ita', 'glg', 'en-CA', 'frs', 'ind', 'enm', 'lat',\n",
       "       'kor', 'pol', 'per', 'wel', 'nl', 'ara', 'tur', 'nav', 'nor',\n",
       "       'jpn', 'swe', 'myn', 'gre', 'urd', 'elx', 'afr', 'cat'],\n",
       "      dtype=object)"
      ]
     },
     "execution_count": 14,
     "metadata": {},
     "output_type": "execute_result"
    }
   ],
   "source": [
    "df['Language'].unique()"
   ]
  },
  {
   "cell_type": "code",
   "execution_count": 15,
   "metadata": {
    "scrolled": true
   },
   "outputs": [
    {
     "name": "stdout",
     "output_type": "stream",
     "text": [
      "2103 values standardised as \"eng\"\n"
     ]
    }
   ],
   "source": [
    "language_mask = df['Language'].str.startswith('en-')\n",
    "english_varieties = df.loc[language_mask, 'Language']\n",
    "print(english_varieties.count().astype(str) + ' values standardised as \"eng\"')\n",
    "english_varieties = 'eng'"
   ]
  },
  {
   "cell_type": "markdown",
   "metadata": {},
   "source": [
    "- To simplify the scope of this project, we will drop all entries that are not in English"
   ]
  },
  {
   "cell_type": "code",
   "execution_count": 16,
   "metadata": {},
   "outputs": [
    {
     "name": "stdout",
     "output_type": "stream",
     "text": [
      "3216 non-English books removed\"\n"
     ]
    }
   ],
   "source": [
    "print(df['Language'][df.Language != 'eng'].count().astype(str) + ' non-English books removed\"')\n",
    "df = df.drop(df[df.Language != 'eng'].index)"
   ]
  },
  {
   "cell_type": "markdown",
   "metadata": {},
   "source": [
    "## ISBN\n",
    "\n",
    "- This column is not relevant for the analysis, so we have decided to drop it."
   ]
  },
  {
   "cell_type": "code",
   "execution_count": 17,
   "metadata": {
    "scrolled": true
   },
   "outputs": [],
   "source": [
    "df = df.drop(columns='ISBN')"
   ]
  },
  {
   "cell_type": "markdown",
   "metadata": {},
   "source": [
    "# 3) Check dates and replace by datetime format"
   ]
  },
  {
   "cell_type": "markdown",
   "metadata": {},
   "source": [
    "## Months & Days\n",
    "- This data is irrelevant for our analysis, so we will drop both columns."
   ]
  },
  {
   "cell_type": "code",
   "execution_count": 18,
   "metadata": {
    "scrolled": true
   },
   "outputs": [],
   "source": [
    "df = df.drop(columns=['PublishMonth', 'PublishDay'])"
   ]
  },
  {
   "cell_type": "markdown",
   "metadata": {},
   "source": [
    "## Year\n",
    "\n",
    "- Remove all rows with year before the minimum of timestamp (1677)"
   ]
  },
  {
   "cell_type": "code",
   "execution_count": 19,
   "metadata": {},
   "outputs": [
    {
     "name": "stdout",
     "output_type": "stream",
     "text": [
      "Books before 1677 dropped: 1\n"
     ]
    }
   ],
   "source": [
    "print(f\"Books before {pd.Timestamp.min.year} dropped: {(df['PublishYear'] <= pd.Timestamp.min.year).sum()}\")"
   ]
  },
  {
   "cell_type": "code",
   "execution_count": 20,
   "metadata": {},
   "outputs": [],
   "source": [
    "df = df.drop(df[df['PublishYear'] <= pd.Timestamp.min.year].index)"
   ]
  },
  {
   "cell_type": "markdown",
   "metadata": {},
   "source": [
    "- Remove all rows with year after the current (probably wrong data)"
   ]
  },
  {
   "cell_type": "code",
   "execution_count": 21,
   "metadata": {
    "scrolled": false
   },
   "outputs": [
    {
     "name": "stdout",
     "output_type": "stream",
     "text": [
      "Books after 2022 dropped: 0\n"
     ]
    }
   ],
   "source": [
    "from datetime import date\n",
    "print(f\"Books after {date.today().year} dropped: {(df['PublishYear'] >= date.today().year).sum()}\")"
   ]
  },
  {
   "cell_type": "code",
   "execution_count": 22,
   "metadata": {},
   "outputs": [],
   "source": [
    "df = df.drop(df[df['PublishYear'] >= date.today().year].index)"
   ]
  },
  {
   "cell_type": "markdown",
   "metadata": {},
   "source": [
    "- Convert year to datetime format"
   ]
  },
  {
   "cell_type": "code",
   "execution_count": 23,
   "metadata": {
    "scrolled": false
   },
   "outputs": [],
   "source": [
    "df['PublishYear'] = pd.to_datetime(df['PublishYear'], format='%Y')"
   ]
  },
  {
   "cell_type": "markdown",
   "metadata": {},
   "source": [
    "# 4) Cleaning RatingDistTotal\n",
    "\n",
    "- Remove \"total:\" from column and convert to int."
   ]
  },
  {
   "cell_type": "code",
   "execution_count": 24,
   "metadata": {},
   "outputs": [],
   "source": [
    "df['RatingDistTotal'] = df['RatingDistTotal'].str.replace(\"total:\", \"\").astype(int)"
   ]
  },
  {
   "cell_type": "markdown",
   "metadata": {},
   "source": [
    "# 5) Questions about the data"
   ]
  },
  {
   "cell_type": "markdown",
   "metadata": {},
   "source": [
    "- Who are the top 5 most rated authors?"
   ]
  },
  {
   "cell_type": "code",
   "execution_count": 25,
   "metadata": {},
   "outputs": [
    {
     "data": {
      "text/plain": [
       "Authors\n",
       "J.K. Rowling           12340705\n",
       "Jane Austen            12025276\n",
       "William Shakespeare    10184216\n",
       "C.S. Lewis              9024689\n",
       "Charlotte Brontë        7833270\n",
       "Name: RatingDistTotal, dtype: int64"
      ]
     },
     "execution_count": 25,
     "metadata": {},
     "output_type": "execute_result"
    }
   ],
   "source": [
    "df.groupby('Authors')['RatingDistTotal'].sum().sort_values(ascending = False).head()"
   ]
  },
  {
   "cell_type": "markdown",
   "metadata": {},
   "source": [
    "- How many different publishers are there?"
   ]
  },
  {
   "cell_type": "code",
   "execution_count": 26,
   "metadata": {},
   "outputs": [
    {
     "data": {
      "text/plain": [
       "7512"
      ]
     },
     "execution_count": 26,
     "metadata": {},
     "output_type": "execute_result"
    }
   ],
   "source": [
    "df['Publisher'].nunique()"
   ]
  },
  {
   "cell_type": "markdown",
   "metadata": {},
   "source": [
    "- Who are the top 5 publishers (most published books)?"
   ]
  },
  {
   "cell_type": "code",
   "execution_count": 27,
   "metadata": {
    "scrolled": true
   },
   "outputs": [
    {
     "data": {
      "text/plain": [
       "Publisher\n",
       "Oxford University Press, USA    949\n",
       "Routledge                       930\n",
       "Cambridge University Press      637\n",
       "Unknown                         518\n",
       "Penguin Books                   428\n",
       "dtype: int64"
      ]
     },
     "execution_count": 27,
     "metadata": {},
     "output_type": "execute_result"
    }
   ],
   "source": [
    "df.pivot_table(index=['Publisher'], aggfunc ='size').sort_values(ascending=False).head()"
   ]
  },
  {
   "cell_type": "markdown",
   "metadata": {},
   "source": [
    "- Which are the top 5 longest books in the dataset?"
   ]
  },
  {
   "cell_type": "code",
   "execution_count": 28,
   "metadata": {
    "scrolled": true
   },
   "outputs": [
    {
     "data": {
      "text/html": [
       "<div>\n",
       "<style scoped>\n",
       "    .dataframe tbody tr th:only-of-type {\n",
       "        vertical-align: middle;\n",
       "    }\n",
       "\n",
       "    .dataframe tbody tr th {\n",
       "        vertical-align: top;\n",
       "    }\n",
       "\n",
       "    .dataframe thead th {\n",
       "        text-align: right;\n",
       "    }\n",
       "</style>\n",
       "<table border=\"1\" class=\"dataframe\">\n",
       "  <thead>\n",
       "    <tr style=\"text-align: right;\">\n",
       "      <th></th>\n",
       "      <th>pagesNumber</th>\n",
       "      <th>Name</th>\n",
       "    </tr>\n",
       "  </thead>\n",
       "  <tbody>\n",
       "    <tr>\n",
       "      <th>45413</th>\n",
       "      <td>2254246</td>\n",
       "      <td>Sholokhov's Tikhii Don: A Commentary In Two Vo...</td>\n",
       "    </tr>\n",
       "    <tr>\n",
       "      <th>36375</th>\n",
       "      <td>205141</td>\n",
       "      <td>2006 Iran Nuclear Threat � Government And Mili...</td>\n",
       "    </tr>\n",
       "    <tr>\n",
       "      <th>36374</th>\n",
       "      <td>63987</td>\n",
       "      <td>2006 Iranian Nuclear Showdown: Iran, Nuclear T...</td>\n",
       "    </tr>\n",
       "    <tr>\n",
       "      <th>24444</th>\n",
       "      <td>9998</td>\n",
       "      <td>Affecting Change: Social Workers in the Politi...</td>\n",
       "    </tr>\n",
       "    <tr>\n",
       "      <th>12410</th>\n",
       "      <td>9998</td>\n",
       "      <td>Absolute Beginner's Guide to C</td>\n",
       "    </tr>\n",
       "  </tbody>\n",
       "</table>\n",
       "</div>"
      ],
      "text/plain": [
       "       pagesNumber                                               Name\n",
       "45413      2254246  Sholokhov's Tikhii Don: A Commentary In Two Vo...\n",
       "36375       205141  2006 Iran Nuclear Threat � Government And Mili...\n",
       "36374        63987  2006 Iranian Nuclear Showdown: Iran, Nuclear T...\n",
       "24444         9998  Affecting Change: Social Workers in the Politi...\n",
       "12410         9998                     Absolute Beginner's Guide to C"
      ]
     },
     "execution_count": 28,
     "metadata": {},
     "output_type": "execute_result"
    }
   ],
   "source": [
    "df[['pagesNumber', 'Name']].sort_values(by=['pagesNumber'], ascending=False).head()"
   ]
  },
  {
   "cell_type": "markdown",
   "metadata": {},
   "source": [
    "- What is the average rating of all books?"
   ]
  },
  {
   "cell_type": "code",
   "execution_count": null,
   "metadata": {},
   "outputs": [],
   "source": []
  },
  {
   "cell_type": "markdown",
   "metadata": {},
   "source": [
    "- Does publisher explain the rating?"
   ]
  },
  {
   "cell_type": "code",
   "execution_count": 53,
   "metadata": {},
   "outputs": [
    {
     "data": {
      "text/plain": [
       "[Text(0, 0, 'Oxford University Press, USA'),\n",
       " Text(1, 0, 'Harvard University Press'),\n",
       " Text(2, 0, 'Wiley'),\n",
       " Text(3, 0, 'Dover Publications'),\n",
       " Text(4, 0, 'Springer'),\n",
       " Text(5, 0, 'Cambridge University Press'),\n",
       " Text(6, 0, 'iUniverse'),\n",
       " Text(7, 0, 'University of Chicago Press'),\n",
       " Text(8, 0, 'Penguin Books'),\n",
       " Text(9, 0, 'Ballantine Books'),\n",
       " Text(10, 0, 'HarperCollins Publishers'),\n",
       " Text(11, 0, 'Vintage'),\n",
       " Text(12, 0, 'HMH Books for Young Readers'),\n",
       " Text(13, 0, \"St. Martin's Griffin\"),\n",
       " Text(14, 0, 'Routledge'),\n",
       " Text(15, 0, 'Peter Lang Gmbh, Internationaler Verlag Der Wissenschaften'),\n",
       " Text(16, 0, 'Pocket Books'),\n",
       " Text(17, 0, \"St. Martin's Press\"),\n",
       " Text(18, 0, 'Unknown'),\n",
       " Text(19, 0, 'Princeton University Press'),\n",
       " Text(20, 0, 'University of California Press'),\n",
       " Text(21, 0, 'HarperCollins'),\n",
       " Text(22, 0, 'Prentice Hall'),\n",
       " Text(23, 0, 'Yale University Press'),\n",
       " Text(24, 0, 'Mariner Books'),\n",
       " Text(25, 0, 'John Wiley & Sons'),\n",
       " Text(26, 0, 'W. W. Norton  Company'),\n",
       " Text(27, 0, 'Bantam'),\n",
       " Text(28, 0, 'Harper Perennial'),\n",
       " Text(29, 0, 'Berkley')]"
      ]
     },
     "execution_count": 53,
     "metadata": {},
     "output_type": "execute_result"
    },
    {
     "data": {
      "image/png": "[encoded data removed]",
      "text/plain": [
       "<Figure size 1170x827 with 1 Axes>"
      ]
     },
     "metadata": {},
     "output_type": "display_data"
    }
   ],
   "source": [
    "top_publishers = df.pivot_table(index=['Publisher'], aggfunc ='size').sort_values(ascending=False).head(30)\n",
    "books_from_top_publishers = df[df['Publisher'].isin(top_publishers.index)]\n",
    "\n",
    "g = sns.barplot(data=books_from_top_publishers, x='Publisher', y='Rating')\n",
    "g.set_xticklabels(g.get_xticklabels(), rotation=90)\n",
    "\n",
    "#publisher slanted\n",
    "#order by publisher count"
   ]
  },
  {
   "cell_type": "markdown",
   "metadata": {},
   "source": [
    "# Things we would like to know from this dataset\n",
    "\n",
    "- does publisher explain score and/or amount of reviews? (barchart  publisher vs median/mean score)\n",
    "- length of book explains amount of reviews? (scatterplot)\n",
    "- What's the relationship between amount of reviews and score? (scatterplot)\n",
    "- Is there any relationship between days since publication and amount of reviews?\n",
    "\n",
    "\n",
    "# NLP related analysis\n",
    "- Most common words in titles (tokenization + countvectorizer)\n",
    "- Which are the rarest words (tokenization + countevectorizer)"
   ]
  },
  {
   "cell_type": "code",
   "execution_count": null,
   "metadata": {},
   "outputs": [],
   "source": []
  }
 ],
 "metadata": {
  "kernelspec": {
   "display_name": "Python 3 (ipykernel)",
   "language": "python",
   "name": "python3"
  },
  "language_info": {
   "codemirror_mode": {
    "name": "ipython",
    "version": 3
   },
   "file_extension": ".py",
   "mimetype": "text/x-python",
   "name": "python",
   "nbconvert_exporter": "python",
   "pygments_lexer": "ipython3",
   "version": "3.10.4"
  }
 },
 "nbformat": 4,
 "nbformat_minor": 1
}
